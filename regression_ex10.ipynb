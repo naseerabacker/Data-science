{
 "cells": [
  {
   "cell_type": "code",
   "execution_count": 2,
   "metadata": {},
   "outputs": [
    {
     "data": {
      "text/plain": [
       "SVC()"
      ]
     },
     "execution_count": 2,
     "metadata": {},
     "output_type": "execute_result"
    }
   ],
   "source": [
    "import numpy as np\n",
    "X = np.array([[-1, -1], [-2, -1], [1, 1], [2, 1]])\n",
    "y = np.array([1, 1, 2, 2])\n",
    "from sklearn.svm import SVC\n",
    "clf = SVC()\n",
    "clf.fit(X, y) \n"
   ]
  },
  {
   "cell_type": "code",
   "execution_count": 3,
   "metadata": {},
   "outputs": [
    {
     "name": "stdout",
     "output_type": "stream",
     "text": [
      "(150, 4)\n",
      "(150, 1)\n",
      "[[ 0.2]\n",
      " [ 0.2]\n",
      " [ 0.2]\n",
      " [ 0.2]\n",
      " [ 0.2]\n",
      " [ 0.4]\n",
      " [ 0.3]\n",
      " [ 0.2]\n",
      " [ 0.2]\n",
      " [ 0.1]\n",
      " [ 0.2]\n",
      " [ 0.2]\n",
      " [ 0.1]\n",
      " [ 0.1]\n",
      " [ 0.2]\n",
      " [ 0.4]\n",
      " [ 0.4]\n",
      " [ 0.3]\n",
      " [ 0.3]\n",
      " [ 0.3]\n",
      " [ 0.2]\n",
      " [ 0.4]\n",
      " [ 0.2]\n",
      " [ 0.5]\n",
      " [ 0.2]\n",
      " [ 0.2]\n",
      " [ 0.4]\n",
      " [ 0.2]\n",
      " [ 0.2]\n",
      " [ 0.2]\n",
      " [ 0.2]\n",
      " [ 0.4]\n",
      " [ 0.1]\n",
      " [ 0.2]\n",
      " [ 0.2]\n",
      " [ 0.2]\n",
      " [ 0.2]\n",
      " [ 0.1]\n",
      " [ 0.2]\n",
      " [ 0.2]\n",
      " [ 0.3]\n",
      " [ 0.3]\n",
      " [ 0.2]\n",
      " [ 0.6]\n",
      " [ 0.4]\n",
      " [ 0.3]\n",
      " [ 0.2]\n",
      " [ 0.2]\n",
      " [ 0.2]\n",
      " [ 0.2]\n",
      " [ 1.4]\n",
      " [ 1.5]\n",
      " [ 1.5]\n",
      " [ 1.3]\n",
      " [ 1.5]\n",
      " [ 1.3]\n",
      " [ 1.6]\n",
      " [ 1. ]\n",
      " [ 1.3]\n",
      " [ 1.4]\n",
      " [ 1. ]\n",
      " [ 1.5]\n",
      " [ 1. ]\n",
      " [ 1.4]\n",
      " [ 1.3]\n",
      " [ 1.4]\n",
      " [ 1.5]\n",
      " [ 1. ]\n",
      " [ 1.5]\n",
      " [ 1.1]\n",
      " [ 1.8]\n",
      " [ 1.3]\n",
      " [ 1.5]\n",
      " [ 1.2]\n",
      " [ 1.3]\n",
      " [ 1.4]\n",
      " [ 1.4]\n",
      " [ 1.7]\n",
      " [ 1.5]\n",
      " [ 1. ]\n",
      " [ 1.1]\n",
      " [ 1. ]\n",
      " [ 1.2]\n",
      " [ 1.6]\n",
      " [ 1.5]\n",
      " [ 1.6]\n",
      " [ 1.5]\n",
      " [ 1.3]\n",
      " [ 1.3]\n",
      " [ 1.3]\n",
      " [ 1.2]\n",
      " [ 1.4]\n",
      " [ 1.2]\n",
      " [ 1. ]\n",
      " [ 1.3]\n",
      " [ 1.2]\n",
      " [ 1.3]\n",
      " [ 1.3]\n",
      " [ 1.1]\n",
      " [ 1.3]\n",
      " [ 2.5]\n",
      " [ 1.9]\n",
      " [ 2.1]\n",
      " [ 1.8]\n",
      " [ 2.2]\n",
      " [ 2.1]\n",
      " [ 1.7]\n",
      " [ 1.8]\n",
      " [ 1.8]\n",
      " [ 2.5]\n",
      " [ 2. ]\n",
      " [ 1.9]\n",
      " [ 2.1]\n",
      " [ 2. ]\n",
      " [ 2.4]\n",
      " [ 2.3]\n",
      " [ 1.8]\n",
      " [ 2.2]\n",
      " [ 2.3]\n",
      " [ 1.5]\n",
      " [ 2.3]\n",
      " [ 2. ]\n",
      " [ 2. ]\n",
      " [ 1.8]\n",
      " [ 2.1]\n",
      " [ 1.8]\n",
      " [ 1.8]\n",
      " [ 1.8]\n",
      " [ 2.1]\n",
      " [ 1.6]\n",
      " [ 1.9]\n",
      " [ 2. ]\n",
      " [ 2.2]\n",
      " [ 1.5]\n",
      " [ 1.4]\n",
      " [ 2.3]\n",
      " [ 2.4]\n",
      " [ 1.8]\n",
      " [ 1.8]\n",
      " [ 2.1]\n",
      " [ 2.4]\n",
      " [ 2.3]\n",
      " [ 1.9]\n",
      " [ 2.3]\n",
      " [ 2.5]\n",
      " [ 2.3]\n",
      " [ 1.9]\n",
      " [ 2. ]\n",
      " [ 2.3]\n",
      " [ 1.8]]\n"
     ]
    }
   ],
   "source": [
    "#linear Regression\n",
    "from sklearn.datasets import  load_iris\n",
    "import numpy as np\n",
    "# dataset=load_iris()\n",
    "x,y =load_iris(return_X_y=True)\n",
    "\n",
    "\n",
    "print(x.shape)\n",
    "x=x[:,np.newaxis,3]\n",
    "print(x.shape)\n",
    "print(x)\n"
   ]
  },
  {
   "cell_type": "code",
   "execution_count": 4,
   "metadata": {
    "collapsed": true
   },
   "outputs": [],
   "source": [
    "#spliting\n",
    "from sklearn.model_selection import train_test_split\n",
    "\n",
    "x_train,x_test,y_train,y_test=train_test_split(x,y,test_size=0.25,random_state=0)\n",
    "\n",
    "\n",
    "\n"
   ]
  },
  {
   "cell_type": "code",
   "execution_count": 5,
   "metadata": {},
   "outputs": [
    {
     "name": "stdout",
     "output_type": "stream",
     "text": [
      "[ 2.24770132  0.80582297 -0.01810752  1.62975346 -0.01810752  2.35069263\n",
      "  0.08488379  1.32077952  1.21778821  1.1147969   1.21778821  1.32077952\n",
      "  1.01180559  1.32077952  1.21778821 -0.12109883  1.32077952  1.01180559\n",
      "  0.08488379  0.1878751   1.83573608  1.32077952 -0.01810752 -0.01810752\n",
      "  1.62975346 -0.01810752  0.1878751   1.1147969   0.80582297  0.1878751\n",
      "  1.62975346  1.32077952 -0.01810752  1.62975346  2.0417187   1.21778821\n",
      "  0.08488379  1.42377083]\n"
     ]
    }
   ],
   "source": [
    "from sklearn.linear_model import LinearRegression as LR\n",
    "reg = LR()\n",
    "reg.fit(x_train,y_train)\n",
    "p = reg.predict(x_test)\n",
    "print(p)"
   ]
  },
  {
   "cell_type": "code",
   "execution_count": 6,
   "metadata": {},
   "outputs": [
    {
     "name": "stdout",
     "output_type": "stream",
     "text": [
      "0.881425750446\n"
     ]
    }
   ],
   "source": [
    "from sklearn.metrics import mean_squared_error as MSE ,r2_score as R2S\n",
    "a = MSE(y_test,p)\n",
    "b = R2S(y_test,p)\n",
    "print(b)\n",
    "\n",
    "\n",
    "\n",
    "\n",
    "\n"
   ]
  },
  {
   "cell_type": "code",
   "execution_count": 7,
   "metadata": {},
   "outputs": [
    {
     "data": {
      "text/plain": [
       "Text(0,0.5,'Flower Category')"
      ]
     },
     "execution_count": 7,
     "metadata": {},
     "output_type": "execute_result"
    },
    {
     "data": {
      "image/png": "[encoded data removed]",
      "text/plain": [
       "<matplotlib.figure.Figure at 0x7f63925c1f28>"
      ]
     },
     "metadata": {},
     "output_type": "display_data"
    }
   ],
   "source": [
    "from matplotlib import pyplot as plt\n",
    "%matplotlib inline\n",
    "plt.scatter(x_test,y_test,color=\"y\")\n",
    "plt.plot(x_test,p,color=\"g\")\n",
    "plt.xlabel(\"petal.width\")\n",
    "plt.ylabel(\"Flower Category\")"
   ]
  },
  {
   "cell_type": "code",
   "execution_count": null,
   "metadata": {
    "collapsed": true
   },
   "outputs": [],
   "source": []
  }
 ],
 "metadata": {
  "kernelspec": {
   "display_name": "Python 3",
   "language": "python",
   "name": "python3"
  },
  "language_info": {
   "codemirror_mode": {
    "name": "ipython",
    "version": 3
   },
   "file_extension": ".py",
   "mimetype": "text/x-python",
   "name": "python",
   "nbconvert_exporter": "python",
   "pygments_lexer": "ipython3",
   "version": "3.6.3"
  }
 },
 "nbformat": 4,
 "nbformat_minor": 2
}
