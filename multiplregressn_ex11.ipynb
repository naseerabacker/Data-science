{
 "cells": [
  {
   "cell_type": "code",
   "execution_count": 5,
   "metadata": {},
   "outputs": [
    {
     "name": "stdout",
     "output_type": "stream",
     "text": [
      "(150, 4)\n",
      "(150, 4)\n"
     ]
    }
   ],
   "source": [
    "#Multiple Regression\n",
    "from sklearn.datasets import  load_iris\n",
    "import numpy as np\n",
    "# dataset=load_iris()\n",
    "x,y =load_iris(return_X_y=True)\n",
    "\n",
    "\n",
    "print(x.shape)\n",
    "print(x.shape)\n"
   ]
  },
  {
   "cell_type": "code",
   "execution_count": 7,
   "metadata": {},
   "outputs": [],
   "source": [
    "#splitting\n",
    "from sklearn.model_selection import train_test_split\n",
    "\n",
    "x_train,x_test,y_train,y_test=train_test_split(x,y,test_size=0.25,random_state=0)"
   ]
  },
  {
   "cell_type": "code",
   "execution_count": 8,
   "metadata": {},
   "outputs": [
    {
     "name": "stdout",
     "output_type": "stream",
     "text": [
      "[ 2.07872867  0.9662282  -0.16117412  1.82229476 -0.03749929  2.28704244\n",
      " -0.03604989  1.30986735  1.27147131  1.10781204  1.59744796  1.299921\n",
      "  1.23731195  1.32145191  1.34954356 -0.11133487  1.36886386  1.2542803\n",
      "  0.03401222 -0.05014733  1.82644819  1.42764369  0.09995305  0.04048737\n",
      "  1.59299693 -0.1147503   0.15857194  1.17003517  0.9301028   0.10397109\n",
      "  1.74160045  1.45830398 -0.07070034  1.62994357  2.00546549  1.27901229\n",
      " -0.04419114  1.59151965]\n"
     ]
    }
   ],
   "source": [
    "from sklearn.linear_model import LinearRegression as LR\n",
    "reg=LR()\n",
    "reg.fit(x_train,y_train)\n",
    "p=reg.predict(x_test)\n",
    "print(p)"
   ]
  },
  {
   "cell_type": "code",
   "execution_count": 9,
   "metadata": {},
   "outputs": [
    {
     "name": "stdout",
     "output_type": "stream",
     "text": [
      "0.0632533690434\n",
      "0.88861235988\n"
     ]
    }
   ],
   "source": [
    "from sklearn.metrics import mean_squared_error as MSE ,r2_score as R2S\n",
    "a=MSE(y_test,p)\n",
    "b=R2S(y_test,p)\n",
    "\n",
    "print(a)\n",
    "print(b)"
   ]
  },
  {
   "cell_type": "code",
   "execution_count": null,
   "metadata": {
    "collapsed": true
   },
   "outputs": [],
   "source": []
  }
 ],
 "metadata": {
  "kernelspec": {
   "display_name": "Python 3",
   "language": "python",
   "name": "python3"
  },
  "language_info": {
   "codemirror_mode": {
    "name": "ipython",
    "version": 3
   },
   "file_extension": ".py",
   "mimetype": "text/x-python",
   "name": "python",
   "nbconvert_exporter": "python",
   "pygments_lexer": "ipython3",
   "version": "3.6.3"
  }
 },
 "nbformat": 4,
 "nbformat_minor": 2
}
