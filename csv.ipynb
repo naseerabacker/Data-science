{
 "cells": [
  {
   "cell_type": "code",
   "execution_count": 5,
   "metadata": {},
   "outputs": [
    {
     "name": "stdout",
     "output_type": "stream",
     "text": [
      "    cars  price\n",
      "0    BMW     50\n",
      "1  VOLVO     60\n"
     ]
    }
   ],
   "source": [
    "import pandas as pd\n",
    "a={'cars':[\"BMW\",\"VOLVO\"],'price':[50,60]}\n",
    "b=pd.DataFrame(a)\n",
    "print(b)"
   ]
  },
  {
   "cell_type": "code",
   "execution_count": 7,
   "metadata": {},
   "outputs": [
    {
     "name": "stdout",
     "output_type": "stream",
     "text": [
      "    Duration         Date  Pulse  Maxpulse  Calories\n",
      "0         60  2020/12/01'    110     130.0       NaN\n",
      "1         60  2020/12/02'    117     145.0     479.0\n",
      "2         60  2020/12/03'    103     135.0     340.0\n",
      "3        450  2020/12/04'    109     175.0     201.0\n",
      "4         45  2020/12/05'    117     148.0      62.0\n",
      "5         60  2020/12/06'    102     127.5      77.0\n",
      "6         60  2020/12/07'    110     136.0     216.0\n",
      "7         45  2020/12/08'    104     134.0     253.0\n",
      "8         30     20201209    109     133.0       NaN\n",
      "9         60  2020/12/10'     98     124.0     269.0\n",
      "10        60  2020/12/11'    103     147.0     329.0\n",
      "11        60  2020/12/12'    100     120.0     250.0\n",
      "12        60  2020/12/12'    100     120.0     250.0\n"
     ]
    }
   ],
   "source": [
    "a=pd.read_csv('vt.csv')\n",
    "print(a)\n"
   ]
  },
  {
   "cell_type": "code",
   "execution_count": 3,
   "metadata": {},
   "outputs": [
    {
     "name": "stdout",
     "output_type": "stream",
     "text": [
      "    Duration         Date  Pulse  Maxpulse  Calories\n",
      "0         60  2020/12/01'    110     130.0       NaN\n",
      "1         60  2020/12/02'    117     145.0     479.0\n",
      "2         60  2020/12/03'    103     135.0     340.0\n",
      "3        450  2020/12/04'    109     175.0     201.0\n",
      "4         45  2020/12/05'    117     148.0      62.0\n",
      "5         60  2020/12/06'    102     127.5      77.0\n",
      "6         60  2020/12/07'    110     136.0     216.0\n",
      "7         45  2020/12/08'    104     134.0     253.0\n",
      "8         30     20201209    109     133.0       NaN\n",
      "9         60  2020/12/10'     98     124.0     269.0\n",
      "10        60  2020/12/11'    103     147.0     329.0\n",
      "11        60  2020/12/12'    100     120.0     250.0\n",
      "12        60  2020/12/12'    100     120.0     250.0\n"
     ]
    }
   ],
   "source": [
    "import pandas as pd\n",
    "a=pd.read_csv('vt.csv')\n",
    "print(a.to_string())"
   ]
  },
  {
   "cell_type": "code",
   "execution_count": 10,
   "metadata": {},
   "outputs": [
    {
     "data": {
      "text/html": [
       "<div>\n",
       "<style>\n",
       "    .dataframe thead tr:only-child th {\n",
       "        text-align: right;\n",
       "    }\n",
       "\n",
       "    .dataframe thead th {\n",
       "        text-align: left;\n",
       "    }\n",
       "\n",
       "    .dataframe tbody tr th {\n",
       "        vertical-align: top;\n",
       "    }\n",
       "</style>\n",
       "<table border=\"1\" class=\"dataframe\">\n",
       "  <thead>\n",
       "    <tr style=\"text-align: right;\">\n",
       "      <th></th>\n",
       "      <th>Duration</th>\n",
       "      <th>Date</th>\n",
       "      <th>Pulse</th>\n",
       "      <th>Maxpulse</th>\n",
       "      <th>Calories</th>\n",
       "    </tr>\n",
       "  </thead>\n",
       "  <tbody>\n",
       "    <tr>\n",
       "      <th>0</th>\n",
       "      <td>60</td>\n",
       "      <td>2020/12/01'</td>\n",
       "      <td>110</td>\n",
       "      <td>130.0</td>\n",
       "      <td>NaN</td>\n",
       "    </tr>\n",
       "    <tr>\n",
       "      <th>1</th>\n",
       "      <td>60</td>\n",
       "      <td>2020/12/02'</td>\n",
       "      <td>117</td>\n",
       "      <td>145.0</td>\n",
       "      <td>479.0</td>\n",
       "    </tr>\n",
       "    <tr>\n",
       "      <th>2</th>\n",
       "      <td>60</td>\n",
       "      <td>2020/12/03'</td>\n",
       "      <td>103</td>\n",
       "      <td>135.0</td>\n",
       "      <td>340.0</td>\n",
       "    </tr>\n",
       "    <tr>\n",
       "      <th>3</th>\n",
       "      <td>450</td>\n",
       "      <td>2020/12/04'</td>\n",
       "      <td>109</td>\n",
       "      <td>175.0</td>\n",
       "      <td>201.0</td>\n",
       "    </tr>\n",
       "    <tr>\n",
       "      <th>4</th>\n",
       "      <td>45</td>\n",
       "      <td>2020/12/05'</td>\n",
       "      <td>117</td>\n",
       "      <td>148.0</td>\n",
       "      <td>62.0</td>\n",
       "    </tr>\n",
       "    <tr>\n",
       "      <th>5</th>\n",
       "      <td>60</td>\n",
       "      <td>2020/12/06'</td>\n",
       "      <td>102</td>\n",
       "      <td>127.5</td>\n",
       "      <td>77.0</td>\n",
       "    </tr>\n",
       "    <tr>\n",
       "      <th>6</th>\n",
       "      <td>60</td>\n",
       "      <td>2020/12/07'</td>\n",
       "      <td>110</td>\n",
       "      <td>136.0</td>\n",
       "      <td>216.0</td>\n",
       "    </tr>\n",
       "    <tr>\n",
       "      <th>7</th>\n",
       "      <td>45</td>\n",
       "      <td>2020/12/08'</td>\n",
       "      <td>104</td>\n",
       "      <td>134.0</td>\n",
       "      <td>253.0</td>\n",
       "    </tr>\n",
       "    <tr>\n",
       "      <th>8</th>\n",
       "      <td>30</td>\n",
       "      <td>20201209</td>\n",
       "      <td>109</td>\n",
       "      <td>133.0</td>\n",
       "      <td>NaN</td>\n",
       "    </tr>\n",
       "    <tr>\n",
       "      <th>9</th>\n",
       "      <td>60</td>\n",
       "      <td>2020/12/10'</td>\n",
       "      <td>98</td>\n",
       "      <td>124.0</td>\n",
       "      <td>269.0</td>\n",
       "    </tr>\n",
       "  </tbody>\n",
       "</table>\n",
       "</div>"
      ],
      "text/plain": [
       "   Duration         Date  Pulse  Maxpulse  Calories\n",
       "0        60  2020/12/01'    110     130.0       NaN\n",
       "1        60  2020/12/02'    117     145.0     479.0\n",
       "2        60  2020/12/03'    103     135.0     340.0\n",
       "3       450  2020/12/04'    109     175.0     201.0\n",
       "4        45  2020/12/05'    117     148.0      62.0\n",
       "5        60  2020/12/06'    102     127.5      77.0\n",
       "6        60  2020/12/07'    110     136.0     216.0\n",
       "7        45  2020/12/08'    104     134.0     253.0\n",
       "8        30     20201209    109     133.0       NaN\n",
       "9        60  2020/12/10'     98     124.0     269.0"
      ]
     },
     "execution_count": 10,
     "metadata": {},
     "output_type": "execute_result"
    }
   ],
   "source": [
    "a.head(10)"
   ]
  },
  {
   "cell_type": "code",
   "execution_count": 12,
   "metadata": {},
   "outputs": [
    {
     "data": {
      "text/html": [
       "<div>\n",
       "<style>\n",
       "    .dataframe thead tr:only-child th {\n",
       "        text-align: right;\n",
       "    }\n",
       "\n",
       "    .dataframe thead th {\n",
       "        text-align: left;\n",
       "    }\n",
       "\n",
       "    .dataframe tbody tr th {\n",
       "        vertical-align: top;\n",
       "    }\n",
       "</style>\n",
       "<table border=\"1\" class=\"dataframe\">\n",
       "  <thead>\n",
       "    <tr style=\"text-align: right;\">\n",
       "      <th></th>\n",
       "      <th>Duration</th>\n",
       "      <th>Date</th>\n",
       "      <th>Pulse</th>\n",
       "      <th>Maxpulse</th>\n",
       "      <th>Calories</th>\n",
       "    </tr>\n",
       "  </thead>\n",
       "  <tbody>\n",
       "    <tr>\n",
       "      <th>10</th>\n",
       "      <td>60</td>\n",
       "      <td>2020/12/11'</td>\n",
       "      <td>103</td>\n",
       "      <td>147.0</td>\n",
       "      <td>329.0</td>\n",
       "    </tr>\n",
       "    <tr>\n",
       "      <th>11</th>\n",
       "      <td>60</td>\n",
       "      <td>2020/12/12'</td>\n",
       "      <td>100</td>\n",
       "      <td>120.0</td>\n",
       "      <td>250.0</td>\n",
       "    </tr>\n",
       "    <tr>\n",
       "      <th>12</th>\n",
       "      <td>60</td>\n",
       "      <td>2020/12/12'</td>\n",
       "      <td>100</td>\n",
       "      <td>120.0</td>\n",
       "      <td>250.0</td>\n",
       "    </tr>\n",
       "  </tbody>\n",
       "</table>\n",
       "</div>"
      ],
      "text/plain": [
       "    Duration         Date  Pulse  Maxpulse  Calories\n",
       "10        60  2020/12/11'    103     147.0     329.0\n",
       "11        60  2020/12/12'    100     120.0     250.0\n",
       "12        60  2020/12/12'    100     120.0     250.0"
      ]
     },
     "execution_count": 12,
     "metadata": {},
     "output_type": "execute_result"
    }
   ],
   "source": [
    "a.tail(3)"
   ]
  },
  {
   "cell_type": "code",
   "execution_count": 13,
   "metadata": {},
   "outputs": [
    {
     "name": "stdout",
     "output_type": "stream",
     "text": [
      "<class 'pandas.core.frame.DataFrame'>\n",
      "RangeIndex: 13 entries, 0 to 12\n",
      "Data columns (total 5 columns):\n",
      "Duration    13 non-null int64\n",
      "Date        13 non-null object\n",
      "Pulse       13 non-null int64\n",
      "Maxpulse    13 non-null float64\n",
      "Calories    11 non-null float64\n",
      "dtypes: float64(2), int64(2), object(1)\n",
      "memory usage: 600.0+ bytes\n"
     ]
    }
   ],
   "source": [
    "a.info()"
   ]
  },
  {
   "cell_type": "code",
   "execution_count": 1,
   "metadata": {
    "collapsed": true
   },
   "outputs": [],
   "source": []
  },
  {
   "cell_type": "code",
   "execution_count": 2,
   "metadata": {},
   "outputs": [
    {
     "name": "stdout",
     "output_type": "stream",
     "text": [
      "<class 'pandas.core.frame.DataFrame'>\n",
      "RangeIndex: 13 entries, 0 to 12\n",
      "Data columns (total 5 columns):\n",
      "Duration    13 non-null int64\n",
      "Date        13 non-null object\n",
      "Pulse       13 non-null int64\n",
      "Maxpulse    13 non-null float64\n",
      "Calories    11 non-null float64\n",
      "dtypes: float64(2), int64(2), object(1)\n",
      "memory usage: 600.0+ bytes\n",
      "None\n",
      "    Duration         Date  Pulse  Maxpulse  Calories\n",
      "0         60  2020/12/01'    110     130.0       NaN\n",
      "1         60  2020/12/02'    117     145.0     479.0\n",
      "2         60  2020/12/03'    103     135.0     340.0\n",
      "3        450  2020/12/04'    109     175.0     201.0\n",
      "4         45  2020/12/05'    117     148.0      62.0\n",
      "5         60  2020/12/06'    102     127.5      77.0\n",
      "6         60  2020/12/07'    110     136.0     216.0\n",
      "7         45  2020/12/08'    104     134.0     253.0\n",
      "8         30     20201209    109     133.0       NaN\n",
      "9         60  2020/12/10'     98     124.0     269.0\n",
      "10        60  2020/12/11'    103     147.0     329.0\n",
      "11        60  2020/12/12'    100     120.0     250.0\n",
      "12        60  2020/12/12'    100     120.0     250.0\n",
      "247.8181818181818\n",
      "    Duration         Date  Pulse  Maxpulse    Calories\n",
      "0         60  2020/12/01'    110     130.0  247.818182\n",
      "1         60  2020/12/02'    117     145.0  479.000000\n",
      "2         60  2020/12/03'    103     135.0  340.000000\n",
      "3        450  2020/12/04'    109     175.0  201.000000\n",
      "4         45  2020/12/05'    117     148.0   62.000000\n",
      "5         60  2020/12/06'    102     127.5   77.000000\n",
      "6         60  2020/12/07'    110     136.0  216.000000\n",
      "7         45  2020/12/08'    104     134.0  253.000000\n",
      "8         30     20201209    109     133.0  247.818182\n",
      "9         60  2020/12/10'     98     124.0  269.000000\n",
      "10        60  2020/12/11'    103     147.0  329.000000\n",
      "11        60  2020/12/12'    100     120.0  250.000000\n",
      "12        60  2020/12/12'    100     120.0  250.000000\n"
     ]
    }
   ],
   "source": [
    "import pandas as pd\n",
    "read=pd.read_csv('vt.csv')\n",
    "print(read.info())\n",
    "print(read)\n",
    "\n",
    "\n",
    "mean=read['Calories'].mean()\n",
    "print(mean)\n",
    "read['Calories'].fillna(mean,inplace=True)\n",
    "print(read)"
   ]
  },
  {
   "cell_type": "code",
   "execution_count": 15,
   "metadata": {},
   "outputs": [
    {
     "name": "stdout",
     "output_type": "stream",
     "text": [
      "0     False\n",
      "1     False\n",
      "2     False\n",
      "3     False\n",
      "4     False\n",
      "5     False\n",
      "6     False\n",
      "7     False\n",
      "8     False\n",
      "9     False\n",
      "10    False\n",
      "11    False\n",
      "dtype: bool\n",
      "    Duration       Date  Pulse  Maxpulse    Calories\n",
      "0         60 2020-12-01  110.0     130.0  247.818182\n",
      "1         60 2020-12-02  117.0     145.0  479.000000\n",
      "2         60 2020-12-03  103.0     135.0  340.000000\n",
      "3         45 2020-12-04  109.0     175.0  201.000000\n",
      "4         45 2020-12-05  117.0     148.0   62.000000\n",
      "5         60 2020-12-06  102.0     127.5   77.000000\n",
      "6         60 2020-12-07  110.0     136.0  216.000000\n",
      "7         45 2020-12-08  104.0     134.0  253.000000\n",
      "8         30 2020-12-09  109.0     133.0  247.818182\n",
      "9         60 2020-12-10   98.0     124.0  269.000000\n",
      "10        60 2020-12-11  103.0     147.0  329.000000\n",
      "11        60 2020-12-12  100.0     120.0  250.000000\n"
     ]
    }
   ],
   "source": [
    "read['Date']=pd.to_datetime(read['Date'])\n",
    "read.loc[3,'Duration']=45\n",
    "print(read.duplicated())\n",
    "read.drop_duplicates(inplace=True)\n",
    "read['Pulse']=read['Pulse'].astype('float64')\n",
    "print(read)   \n",
    " "
   ]
  },
  {
   "cell_type": "code",
   "execution_count": null,
   "metadata": {
    "collapsed": true
   },
   "outputs": [],
   "source": []
  }
 ],
 "metadata": {
  "kernelspec": {
   "display_name": "Python 3",
   "language": "python",
   "name": "python3"
  },
  "language_info": {
   "codemirror_mode": {
    "name": "ipython",
    "version": 3
   },
   "file_extension": ".py",
   "mimetype": "text/x-python",
   "name": "python",
   "nbconvert_exporter": "python",
   "pygments_lexer": "ipython3",
   "version": "3.6.3"
  }
 },
 "nbformat": 4,
 "nbformat_minor": 2
}
