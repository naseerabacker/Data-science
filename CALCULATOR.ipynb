{
 "cells": [
  {
   "cell_type": "code",
   "execution_count": null,
   "metadata": {},
   "outputs": [
    {
     "name": "stdout",
     "output_type": "stream",
     "text": [
      "Enter first number  3\n",
      "Enter second number  4\n",
      "1.Addition\n",
      "2.Substraction\n",
      "3.multiplication\n",
      "4.division\n",
      "Enter choice  2\n",
      "difference is -1.0\n"
     ]
    }
   ],
   "source": [
    "#calculator\n",
    "\n",
    "n1=float(input('Enter first number  '))\n",
    "n2=float(input('Enter second number  '))\n",
    "print('1.Addition')\n",
    "print('2.Substraction')\n",
    "print('3.multiplication')\n",
    "print('4.division')\n",
    "\n",
    "\n",
    "while(1):\n",
    "    ch=input('Enter choice  ')\n",
    "    if ch=='1':\n",
    "        print('sum of numbers:',n1+n2)\n",
    "        \n",
    "    elif ch=='2':\n",
    "        print('difference is',n1-n2)\n",
    "        \n",
    "    elif ch=='3':\n",
    "        print('product is',n1*n2)     \n",
    "        \n",
    "    elif ch=='4':\n",
    "        if n2 != 0:\n",
    "            print('product is',n1/n2)\n",
    "           \n",
    "        else:\n",
    "            print('division by zero not possible')\n",
    "           \n",
    "else:\n",
    "    print('invalid input')"
   ]
  },
  {
   "cell_type": "code",
   "execution_count": null,
   "metadata": {
    "collapsed": true
   },
   "outputs": [],
   "source": []
  },
  {
   "cell_type": "code",
   "execution_count": null,
   "metadata": {
    "collapsed": true
   },
   "outputs": [],
   "source": []
  }
 ],
 "metadata": {
  "kernelspec": {
   "display_name": "Python 3",
   "language": "python",
   "name": "python3"
  },
  "language_info": {
   "codemirror_mode": {
    "name": "ipython",
    "version": 3
   },
   "file_extension": ".py",
   "mimetype": "text/x-python",
   "name": "python",
   "nbconvert_exporter": "python",
   "pygments_lexer": "ipython3",
   "version": "3.6.3"
  }
 },
 "nbformat": 4,
 "nbformat_minor": 2
}
